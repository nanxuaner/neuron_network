{
 "cells": [
  {
   "cell_type": "code",
   "execution_count": 1,
   "metadata": {
    "collapsed": true
   },
   "outputs": [],
   "source": [
    "import numpy as np"
   ]
  },
  {
   "cell_type": "code",
   "execution_count": 2,
   "metadata": {
    "collapsed": false
   },
   "outputs": [
    {
     "data": {
      "text/plain": [
       "numpy.ndarray"
      ]
     },
     "execution_count": 2,
     "metadata": {},
     "output_type": "execute_result"
    }
   ],
   "source": [
    "a = np.array([[1,1,1,1], [1,1,1,1]])\n",
    "test = np.sum(np.square(a), axis = 1)\n",
    "type(test)"
   ]
  },
  {
   "cell_type": "code",
   "execution_count": 3,
   "metadata": {
    "collapsed": false
   },
   "outputs": [
    {
     "data": {
      "text/plain": [
       "array([4, 4])"
      ]
     },
     "execution_count": 3,
     "metadata": {},
     "output_type": "execute_result"
    }
   ],
   "source": [
    "test"
   ]
  },
  {
   "cell_type": "code",
   "execution_count": 9,
   "metadata": {
    "collapsed": false
   },
   "outputs": [
    {
     "data": {
      "text/plain": [
       "1"
      ]
     },
     "execution_count": 9,
     "metadata": {},
     "output_type": "execute_result"
    }
   ],
   "source": [
    "from collections import Counter\n",
    "Counter([3, 2, 1, 3, 3, 3, 4, 1, 1, 1]).most_common(1)[0][0]"
   ]
  },
  {
   "cell_type": "code",
   "execution_count": 11,
   "metadata": {
    "collapsed": false
   },
   "outputs": [
    {
     "data": {
      "text/plain": [
       "array([[ 1,  3,  5],\n",
       "       [ 8, 10, 12],\n",
       "       [15, 20, 50],\n",
       "       [15, 20, 50]])"
      ]
     },
     "execution_count": 11,
     "metadata": {},
     "output_type": "execute_result"
    }
   ],
   "source": [
    "k = np.array([[1, 3, 5], [8, 10, 12], [15, 20, 50], [15, 20, 50]])\n",
    "k"
   ]
  },
  {
   "cell_type": "code",
   "execution_count": 20,
   "metadata": {
    "collapsed": false
   },
   "outputs": [
    {
     "data": {
      "text/plain": [
       "[array([[1, 3, 5]]),\n",
       " array([[ 8, 10, 12]]),\n",
       " array([[15, 20, 50]]),\n",
       " array([[15, 20, 50]])]"
      ]
     },
     "execution_count": 20,
     "metadata": {},
     "output_type": "execute_result"
    }
   ],
   "source": [
    "subk = np.array_split(k, 4)\n",
    "subk"
   ]
  },
  {
   "cell_type": "code",
   "execution_count": 21,
   "metadata": {
    "collapsed": false
   },
   "outputs": [
    {
     "data": {
      "text/plain": [
       "array([[1, 3, 5]])"
      ]
     },
     "execution_count": 21,
     "metadata": {},
     "output_type": "execute_result"
    }
   ],
   "source": [
    "subk[0]"
   ]
  },
  {
   "cell_type": "code",
   "execution_count": null,
   "metadata": {
    "collapsed": true
   },
   "outputs": [],
   "source": [
    "f_y_i = W_y_i * x_i + b_y_i\n",
    "f_j = W_j * x_i + b_j\n",
    "exp_f_j = np.exp(f_j)\n",
    "sum_exp = np.sum(exp_f_j)\n",
    "log_sum = np.log(sum_exp)\n",
    "loss_i = -f_y_i + log_sum\n",
    "\n",
    "# backprop for loss_i\n",
    "df_y_i = -1\n",
    "dlog_sum = 1\n",
    "# backprop for df_y_i\n",
    "dW_y_i = x_i*df_y_i\n",
    "db_y_i = 1*df_y_i\n",
    "dX_i = W_y_i*df_y_i\n",
    "# backprop for dlog_sum\n",
    "dsum_exp = 1/sum_exp * dlog_sum\n",
    "# backprop for dsum_exp\n",
    "for j in range(num_classes):\n",
    "    dexp_f_j = 1*dsum_exp\n",
    "    # backprop for dexp_f_j\n",
    "    df_j = np.exp(f_j)*dexp_f_j\n",
    "    # backprop for df_j\n",
    "    dW_j = x_i*df_j\n",
    "    db_j = 1 * df_j\n",
    "    dX_i += W_j*df_j\n",
    "    \n",
    "    dW_j = x_i*np.exp(f_j)/sum_exp\n",
    "    db_j = 1 * np.exp(f_j)/sum_exp\n",
    "dW_y_i = -x_i\n",
    "db_y_i = -1\n",
    "dX_i = -W_y_i + W_j*np.exp(f_j)/sum_exp"
   ]
  },
  {
   "cell_type": "code",
   "execution_count": null,
   "metadata": {
    "collapsed": true
   },
   "outputs": [],
   "source": [
    "np.logspace(-3.5,-2.5,10)"
   ]
  },
  {
   "cell_type": "code",
   "execution_count": null,
   "metadata": {
    "collapsed": true
   },
   "outputs": [],
   "source": []
  }
 ],
 "metadata": {
  "kernelspec": {
   "display_name": "Python 2",
   "language": "python",
   "name": "python2"
  },
  "language_info": {
   "codemirror_mode": {
    "name": "ipython",
    "version": 2
   },
   "file_extension": ".py",
   "mimetype": "text/x-python",
   "name": "python",
   "nbconvert_exporter": "python",
   "pygments_lexer": "ipython2",
   "version": "2.7.11"
  }
 },
 "nbformat": 4,
 "nbformat_minor": 0
}
